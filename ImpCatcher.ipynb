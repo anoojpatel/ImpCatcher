{
 "cells": [
  {
   "cell_type": "markdown",
   "id": "1d6f7f29-0838-4a14-9e63-75e273e06f16",
   "metadata": {},
   "source": [
    "# Imp Catcher\n",
    "## A Dark Chess Engine and Open Research Project\n",
    "\n",
    "### Goals:\n",
    "- Build a state of the art Dark Chess Engine\n",
    "- Learn about Game theoertic concepts for Deeply complex and large games\n",
    "- Intuit how agents can scale to very large models\n",
    "- Build out mechanisms to efficiently and scalably compete agents for Dark Chess\n",
    "\n",
    "\n",
    "### Tools\n",
    "- The Julia Language\n",
    "- anoojpatel/Chess.jl fork to implement Dark Chess\n",
    "- anooj/ImpCatcher repo to implement algorithms and gyms"
   ]
  },
  {
   "cell_type": "markdown",
   "id": "fe8c924e-0e4c-4c32-868a-695e1bc82c02",
   "metadata": {},
   "source": [
    "### Install Julia into the machine and instantiate the kernel for use."
   ]
  },
  {
   "cell_type": "code",
   "execution_count": null,
   "id": "e569f371-f6e6-4f85-81f6-a82e4cdb00c6",
   "metadata": {
    "collapsed": true,
    "jupyter": {
     "outputs_hidden": true
    },
    "tags": []
   },
   "outputs": [],
   "source": [
    "# Installation cell\n",
    "!wget -q 'https://julialang-s3.julialang.org/bin/linux/x64/1.7/julia-1.7.2-linux-x86_64.tar.gz' \\\n",
    "    -O /tmp/julia.tar.gz\n",
    "!tar -x -f /tmp/julia.tar.gz -C /usr/local --strip-components 1\n",
    "!rm /tmp/julia.tar.gz\n",
    "\n",
    "!julia -e 'using Pkg; pkg\"add IJulia; precompile;\"'\n",
    "!echo 'Done'\n",
    "     "
   ]
  },
  {
   "cell_type": "markdown",
   "id": "89954a9f-a1a7-46c4-9d57-b88fe6902f91",
   "metadata": {
    "execution": {
     "iopub.execute_input": "2023-01-26T05:03:06.922708Z",
     "iopub.status.busy": "2023-01-26T05:03:06.922371Z",
     "iopub.status.idle": "2023-01-26T05:03:06.960989Z",
     "shell.execute_reply": "2023-01-26T05:03:06.959939Z",
     "shell.execute_reply.started": "2023-01-26T05:03:06.922684Z"
    }
   },
   "source": [
    "**Note, you'll need to restart the kernel & choose the Julia Kernel**"
   ]
  },
  {
   "cell_type": "code",
   "execution_count": 20,
   "id": "274babc5-4fe4-4c14-98b2-f723f26dfb38",
   "metadata": {
    "tags": []
   },
   "outputs": [
    {
     "name": "stdout",
     "output_type": "stream",
     "text": [
      "The GPU device is:CuDevice(0)"
     ]
    },
    {
     "name": "stderr",
     "output_type": "stream",
     "text": [
      "\u001b[32m\u001b[1m   Resolving\u001b[22m\u001b[39m package versions...\n",
      "\u001b[32m\u001b[1m    Updating\u001b[22m\u001b[39m `/notebooks/ImpCatcher/Project.toml`\n",
      " \u001b[90m [6e4b80f9] \u001b[39m\u001b[92m+ BenchmarkTools v1.3.2\u001b[39m\n",
      " \u001b[90m [052768ef] \u001b[39m\u001b[92m+ CUDA v3.13.1\u001b[39m\n",
      "\u001b[32m\u001b[1m    Updating\u001b[22m\u001b[39m `/notebooks/ImpCatcher/Manifest.toml`\n",
      " \u001b[90m [6e4b80f9] \u001b[39m\u001b[92m+ BenchmarkTools v1.3.2\u001b[39m\n",
      " \u001b[90m [9abbd945] \u001b[39m\u001b[92m+ Profile\u001b[39m\n"
     ]
    },
    {
     "data": {
      "text/plain": [
       "CuDevice(0): Quadro M4000"
      ]
     },
     "execution_count": 20,
     "metadata": {},
     "output_type": "execute_result"
    }
   ],
   "source": [
    "# Test GPU access\n",
    "using Pkg\n",
    "Pkg.add([\"BenchmarkTools\", \"CUDA\"])\n",
    "using BenchmarkTools, CUDA\n",
    "\n",
    "if has_cuda_gpu()\n",
    "  print(\"The GPU device is:\", CUDA.device())\n",
    "end\n",
    "\n",
    "CUDA.device()"
   ]
  },
  {
   "cell_type": "markdown",
   "id": "b4bd3d1f-b80b-4fa2-b18a-5905963a8b0a",
   "metadata": {},
   "source": [
    "### Activating the Environment"
   ]
  },
  {
   "cell_type": "markdown",
   "id": "d0a94bf5-406b-4f69-959c-188dbd762e3c",
   "metadata": {
    "tags": []
   },
   "source": [
    "#### Let's activate the Environment from the ImpCatcher package. Note, in julia, we have a similiar Package manager to Rust called `Pkg` ([Check out the docs!](https://pkgdocs.julialang.org/v1/getting-started/)) \n",
    "> `Manifest.toml` & `Project.toml` is where the state of our packages is managed. Pkg resolves high level dependency asks (in Project.toml) and resolves into into a determinstic state (in Manifest.toml)\n"
   ]
  },
  {
   "cell_type": "code",
   "execution_count": 2,
   "id": "73dd3f40-e199-4b9c-927e-e1c47833b2b4",
   "metadata": {
    "tags": []
   },
   "outputs": [
    {
     "name": "stderr",
     "output_type": "stream",
     "text": [
      "\u001b[32m\u001b[1m  Activating\u001b[22m\u001b[39m project at `/notebooks/ImpCatcher`\n",
      "\u001b[32m\u001b[1m     Cloning\u001b[22m\u001b[39m git-repo `https://github.com/WhiffleFish/ESCHER.jl.git`\n",
      "\u001b[32m\u001b[1m     Cloning\u001b[22m\u001b[39m git-repo `https://github.com/anoojpatel/Chess.jl.git`\n",
      "\u001b[32m\u001b[1m   Installed\u001b[22m\u001b[39m Calculus ────────────────────────── v0.5.1\n",
      "\u001b[32m\u001b[1m   Installed\u001b[22m\u001b[39m ShowCases ───────────────────────── v0.1.0\n",
      "\u001b[32m\u001b[1m   Installed\u001b[22m\u001b[39m Accessors ───────────────────────── v0.1.25\n",
      "\u001b[32m\u001b[1m   Installed\u001b[22m\u001b[39m StatsFuns ───────────────────────── v1.1.1\n",
      "\u001b[32m\u001b[1m   Installed\u001b[22m\u001b[39m ContextVariablesX ───────────────── v0.1.3\n",
      "\u001b[32m\u001b[1m   Installed\u001b[22m\u001b[39m NNlib ───────────────────────────── v0.8.16\n",
      "\u001b[32m\u001b[1m   Installed\u001b[22m\u001b[39m Unitful ─────────────────────────── v1.12.2\n",
      "\u001b[32m\u001b[1m   Installed\u001b[22m\u001b[39m PDMats ──────────────────────────── v0.11.16\n",
      "\u001b[32m\u001b[1m   Installed\u001b[22m\u001b[39m Contour ─────────────────────────── v0.5.7\n",
      "\u001b[32m\u001b[1m   Installed\u001b[22m\u001b[39m HTML_Entities ───────────────────── v1.0.1\n",
      "\u001b[32m\u001b[1m   Installed\u001b[22m\u001b[39m NNlibCUDA ───────────────────────── v0.2.6\n",
      "\u001b[32m\u001b[1m   Installed\u001b[22m\u001b[39m JuliaFormatter ──────────────────── v1.0.20\n",
      "\u001b[32m\u001b[1m   Installed\u001b[22m\u001b[39m TimerOutputs ────────────────────── v0.5.22\n",
      "\u001b[32m\u001b[1m   Installed\u001b[22m\u001b[39m MarchingCubes ───────────────────── v0.1.6\n",
      "\u001b[32m\u001b[1m   Installed\u001b[22m\u001b[39m InlineStrings ───────────────────── v1.4.0\n",
      "\u001b[32m\u001b[1m   Installed\u001b[22m\u001b[39m EarCut_jll ──────────────────────── v2.2.4+0\n",
      "\u001b[32m\u001b[1m   Installed\u001b[22m\u001b[39m ZipFile ─────────────────────────── v0.9.4\n",
      "\u001b[32m\u001b[1m   Installed\u001b[22m\u001b[39m Nettle ──────────────────────────── v1.0.0\n",
      "\u001b[32m\u001b[1m   Installed\u001b[22m\u001b[39m StaticArrays ────────────────────── v1.5.12\n",
      "\u001b[32m\u001b[1m   Installed\u001b[22m\u001b[39m ProgressMeter ───────────────────── v1.7.2\n",
      "\u001b[32m\u001b[1m   Installed\u001b[22m\u001b[39m VersionCheck ────────────────────── v0.2.0\n",
      "\u001b[32m\u001b[1m   Installed\u001b[22m\u001b[39m Formatting ──────────────────────── v0.4.2\n",
      "\u001b[32m\u001b[1m   Installed\u001b[22m\u001b[39m Optimisers ──────────────────────── v0.2.9\n",
      "\u001b[32m\u001b[1m   Installed\u001b[22m\u001b[39m URIParser ───────────────────────── v0.4.1\n",
      "\u001b[32m\u001b[1m   Installed\u001b[22m\u001b[39m FuncPipelines ───────────────────── v0.2.3\n",
      "\u001b[32m\u001b[1m   Installed\u001b[22m\u001b[39m InitialValues ───────────────────── v0.3.1\n",
      "\u001b[32m\u001b[1m   Installed\u001b[22m\u001b[39m FunctionWrappers ────────────────── v1.1.3\n",
      "\u001b[32m\u001b[1m   Installed\u001b[22m\u001b[39m InvertedIndices ─────────────────── v1.2.0\n",
      "\u001b[32m\u001b[1m   Installed\u001b[22m\u001b[39m FileIO ──────────────────────────── v1.16.0\n",
      "\u001b[32m\u001b[1m   Installed\u001b[22m\u001b[39m HTTP ────────────────────────────── v0.9.17\n",
      "\u001b[32m\u001b[1m   Installed\u001b[22m\u001b[39m BFloat16s ───────────────────────── v0.2.0\n",
      "\u001b[32m\u001b[1m   Installed\u001b[22m\u001b[39m CircularArrayBuffers ────────────── v0.1.10\n",
      "\u001b[32m\u001b[1m   Installed\u001b[22m\u001b[39m GPUArrays ───────────────────────── v8.6.1\n",
      "\u001b[32m\u001b[1m   Installed\u001b[22m\u001b[39m CodeTracking ────────────────────── v1.2.0\n",
      "\u001b[32m\u001b[1m   Installed\u001b[22m\u001b[39m RandomNumbers ───────────────────── v1.5.3\n",
      "\u001b[32m\u001b[1m   Installed\u001b[22m\u001b[39m ZygoteRules ─────────────────────── v0.2.2\n",
      "\u001b[32m\u001b[1m   Installed\u001b[22m\u001b[39m DataFrames ──────────────────────── v1.3.6\n",
      "\u001b[32m\u001b[1m   Installed\u001b[22m\u001b[39m Millboard ───────────────────────── v0.2.5\n",
      "\u001b[32m\u001b[1m   Installed\u001b[22m\u001b[39m Static ──────────────────────────── v0.8.3\n",
      "\u001b[32m\u001b[1m   Installed\u001b[22m\u001b[39m UnicodePlots ────────────────────── v2.12.4\n",
      "\u001b[32m\u001b[1m   Installed\u001b[22m\u001b[39m TupleTools ──────────────────────── v1.3.0\n",
      "\u001b[32m\u001b[1m   Installed\u001b[22m\u001b[39m ArgParse ────────────────────────── v1.1.4\n",
      "\u001b[32m\u001b[1m   Installed\u001b[22m\u001b[39m MLUtils ─────────────────────────── v0.2.11\n",
      "\u001b[32m\u001b[1m   Installed\u001b[22m\u001b[39m PrettyPrint ─────────────────────── v0.2.0\n",
      "\u001b[32m\u001b[1m   Installed\u001b[22m\u001b[39m Missings ────────────────────────── v0.4.5\n",
      "\u001b[32m\u001b[1m   Installed\u001b[22m\u001b[39m LLVM ────────────────────────────── v4.15.0\n",
      "\u001b[32m\u001b[1m   Installed\u001b[22m\u001b[39m EllipsisNotation ────────────────── v1.6.0\n",
      "\u001b[32m\u001b[1m   Installed\u001b[22m\u001b[39m RealDot ─────────────────────────── v0.1.0\n",
      "\u001b[32m\u001b[1m   Installed\u001b[22m\u001b[39m IrrationalConstants ─────────────── v0.1.1\n",
      "\u001b[32m\u001b[1m   Installed\u001b[22m\u001b[39m EzXML ───────────────────────────── v1.1.0\n",
      "\u001b[32m\u001b[1m   Installed\u001b[22m\u001b[39m Fetch ───────────────────────────── v0.1.3\n",
      "\u001b[32m\u001b[1m   Installed\u001b[22m\u001b[39m IRTools ─────────────────────────── v0.4.7\n",
      "\u001b[32m\u001b[1m   Installed\u001b[22m\u001b[39m Functors ────────────────────────── v0.2.8\n",
      "\u001b[32m\u001b[1m   Installed\u001b[22m\u001b[39m Bzip2_jll ───────────────────────── v1.0.8+0\n",
      "\u001b[32m\u001b[1m   Installed\u001b[22m\u001b[39m FLoopsBase ──────────────────────── v0.1.1\n",
      "\u001b[32m\u001b[1m   Installed\u001b[22m\u001b[39m SpecialFunctions ────────────────── v2.1.7\n",
      "\u001b[32m\u001b[1m   Installed\u001b[22m\u001b[39m BenchmarkTools ──────────────────── v1.3.2\n",
      "\u001b[32m\u001b[1m   Installed\u001b[22m\u001b[39m Revise ──────────────────────────── v3.5.0\n",
      "\u001b[32m\u001b[1m   Installed\u001b[22m\u001b[39m IfElse ──────────────────────────── v0.1.1\n",
      "\u001b[32m\u001b[1m   Installed\u001b[22m\u001b[39m ProgressLogging ─────────────────── v0.1.4\n",
      "\u001b[32m\u001b[1m   Installed\u001b[22m\u001b[39m DefaultApplication ──────────────── v1.1.0\n",
      "\u001b[32m\u001b[1m   Installed\u001b[22m\u001b[39m LoweredCodeUtils ────────────────── v2.3.0\n",
      "\u001b[32m\u001b[1m   Installed\u001b[22m\u001b[39m Zygote ──────────────────────────── v0.6.55\n",
      "\u001b[32m\u001b[1m   Installed\u001b[22m\u001b[39m ArrayInterfaceCore ──────────────── v0.1.29\n",
      "\u001b[32m\u001b[1m   Installed\u001b[22m\u001b[39m StaticArraysCore ────────────────── v1.4.0\n",
      "\u001b[32m\u001b[1m   Installed\u001b[22m\u001b[39m StringEncodings ─────────────────── v0.3.6\n",
      "\u001b[32m\u001b[1m   Installed\u001b[22m\u001b[39m BytePairEncoding ────────────────── v0.2.0\n",
      "\u001b[32m\u001b[1m   Installed\u001b[22m\u001b[39m NaNMath ─────────────────────────── v1.0.1\n",
      "\u001b[32m\u001b[1m   Installed\u001b[22m\u001b[39m CommonMark ──────────────────────── v0.8.10\n",
      "\u001b[32m\u001b[1m   Installed\u001b[22m\u001b[39m DefineSingletons ────────────────── v0.1.2\n",
      "\u001b[32m\u001b[1m   Installed\u001b[22m\u001b[39m Random123 ───────────────────────── v1.6.0\n",
      "\u001b[32m\u001b[1m   Installed\u001b[22m\u001b[39m NameResolution ──────────────────── v0.1.5\n",
      "\u001b[32m\u001b[1m   Installed\u001b[22m\u001b[39m DBInterface ─────────────────────── v2.5.0\n",
      "\u001b[32m\u001b[1m   Installed\u001b[22m\u001b[39m MicroCollections ────────────────── v0.1.3\n",
      "\u001b[32m\u001b[1m   Installed\u001b[22m\u001b[39m Hiccup ──────────────────────────── v0.2.2\n",
      "\u001b[32m\u001b[1m   Installed\u001b[22m\u001b[39m Rmath_jll ───────────────────────── v0.4.0+0\n",
      "\u001b[32m\u001b[1m   Installed\u001b[22m\u001b[39m WeakRefStrings ──────────────────── v1.4.2\n",
      "\u001b[32m\u001b[1m   Installed\u001b[22m\u001b[39m StippleUI ───────────────────────── v0.19.4\n",
      "\u001b[32m\u001b[1m   Installed\u001b[22m\u001b[39m BinaryProvider ──────────────────── v0.5.10\n",
      "\u001b[32m\u001b[1m   Installed\u001b[22m\u001b[39m Colors ──────────────────────────── v0.12.10\n",
      "\u001b[32m\u001b[1m   Installed\u001b[22m\u001b[39m FreeType2_jll ───────────────────── v2.10.4+0\n",
      "\u001b[32m\u001b[1m   Installed\u001b[22m\u001b[39m FreeType ────────────────────────── v4.0.0\n",
      "\u001b[32m\u001b[1m   Installed\u001b[22m\u001b[39m CommonSubexpressions ────────────── v0.3.0\n",
      "\u001b[32m\u001b[1m   Installed\u001b[22m\u001b[39m DataStructures ──────────────────── v0.18.13\n",
      "\u001b[32m\u001b[1m   Installed\u001b[22m\u001b[39m HypergeometricFunctions ─────────── v0.3.11\n",
      "\u001b[32m\u001b[1m   Installed\u001b[22m\u001b[39m ChainRules ──────────────────────── v1.46.1\n",
      "\u001b[32m\u001b[1m   Installed\u001b[22m\u001b[39m MLStyle ─────────────────────────── v0.4.16\n",
      "\u001b[32m\u001b[1m   Installed\u001b[22m\u001b[39m Compat ──────────────────────────── v3.46.0\n",
      "\u001b[32m\u001b[1m   Installed\u001b[22m\u001b[39m Glob ────────────────────────────── v1.3.0\n",
      "\u001b[32m\u001b[1m   Installed\u001b[22m\u001b[39m ExprTools ───────────────────────── v0.1.8\n",
      "\u001b[32m\u001b[1m   Installed\u001b[22m\u001b[39m StatsBase ───────────────────────── v0.33.2\n",
      "\u001b[32m\u001b[1m   Installed\u001b[22m\u001b[39m LazyModules ─────────────────────── v0.3.1\n",
      "\u001b[32m\u001b[1m   Installed\u001b[22m\u001b[39m BangBang ────────────────────────── v0.3.37\n",
      "\u001b[32m\u001b[1m   Installed\u001b[22m\u001b[39m FLoops ──────────────────────────── v0.2.1\n",
      "\u001b[32m\u001b[1m   Installed\u001b[22m\u001b[39m Scratch ─────────────────────────── v1.1.1\n",
      "\u001b[32m\u001b[1m   Installed\u001b[22m\u001b[39m StructTypes ─────────────────────── v1.10.0\n",
      "\u001b[32m\u001b[1m   Installed\u001b[22m\u001b[39m CommonRLInterface ───────────────── v0.3.1\n",
      "\u001b[32m\u001b[1m   Installed\u001b[22m\u001b[39m ColorTypes ──────────────────────── v0.11.4\n",
      "\u001b[32m\u001b[1m   Installed\u001b[22m\u001b[39m DiffRules ───────────────────────── v1.12.2\n",
      "\u001b[32m\u001b[1m   Installed\u001b[22m\u001b[39m ReinforcementLearningEnvironments ─ v0.6.12\n",
      "\u001b[32m\u001b[1m   Installed\u001b[22m\u001b[39m ArgCheck ────────────────────────── v2.3.0\n",
      "\u001b[32m\u001b[1m   Installed\u001b[22m\u001b[39m OpenSpiel_jll ───────────────────── v1.1.1+3\n",
      "\u001b[32m\u001b[1m   Installed\u001b[22m\u001b[39m Flux ────────────────────────────── v0.13.4\n",
      "\u001b[32m\u001b[1m   Installed\u001b[22m\u001b[39m JSON3 ───────────────────────────── v1.12.0\n",
      "\u001b[32m\u001b[1m   Installed\u001b[22m\u001b[39m TensorCore ──────────────────────── v0.1.1\n",
      "\u001b[32m\u001b[1m   Installed\u001b[22m\u001b[39m PrimitiveOneHot ─────────────────── v0.1.3\n",
      "\u001b[32m\u001b[1m   Installed\u001b[22m\u001b[39m TableTraits ─────────────────────── v1.0.1\n",
      "\u001b[32m\u001b[1m   Installed\u001b[22m\u001b[39m FreeTypeAbstraction ─────────────── v0.9.9\n",
      "\u001b[32m\u001b[1m   Installed\u001b[22m\u001b[39m DiffResults ─────────────────────── v1.1.0\n",
      "\u001b[32m\u001b[1m   Installed\u001b[22m\u001b[39m OpenSpiel ───────────────────────── v0.1.4\n",
      "\u001b[32m\u001b[1m   Installed\u001b[22m\u001b[39m JuliaInterpreter ────────────────── v0.9.20\n",
      "\u001b[32m\u001b[1m   Installed\u001b[22m\u001b[39m PrettyTables ────────────────────── v1.3.1\n",
      "\u001b[32m\u001b[1m   Installed\u001b[22m\u001b[39m PooledArrays ────────────────────── v1.4.2\n",
      "\u001b[32m\u001b[1m   Installed\u001b[22m\u001b[39m Mixers ──────────────────────────── v0.1.2\n",
      "\u001b[32m\u001b[1m   Installed\u001b[22m\u001b[39m DataDeps ────────────────────────── v0.7.8\n",
      "\u001b[32m\u001b[1m   Installed\u001b[22m\u001b[39m Extents ─────────────────────────── v0.1.1\n",
      "\u001b[32m\u001b[1m   Installed\u001b[22m\u001b[39m Parsers ─────────────────────────── v2.5.3\n",
      "\u001b[32m\u001b[1m   Installed\u001b[22m\u001b[39m Setfield ────────────────────────── v0.8.2\n",
      "\u001b[32m\u001b[1m   Installed\u001b[22m\u001b[39m DataValueInterfaces ─────────────── v1.0.0\n",
      "\u001b[32m\u001b[1m   Installed\u001b[22m\u001b[39m LLVMExtra_jll ───────────────────── v0.0.16+0\n",
      "\u001b[32m\u001b[1m   Installed\u001b[22m\u001b[39m AbstractFFTs ────────────────────── v1.2.1\n",
      "\u001b[32m\u001b[1m   Installed\u001b[22m\u001b[39m ColorVectorSpace ────────────────── v0.9.10\n",
      "\u001b[32m\u001b[1m   Installed\u001b[22m\u001b[39m Tokenize ────────────────────────── v0.5.25\n",
      "\u001b[32m\u001b[1m   Installed\u001b[22m\u001b[39m ConstructionBase ────────────────── v1.4.1\n",
      "\u001b[32m\u001b[1m   Installed\u001b[22m\u001b[39m libcxxwrap_julia_jll ────────────── v0.9.3+0\n",
      "\u001b[32m\u001b[1m   Installed\u001b[22m\u001b[39m StrTables ───────────────────────── v1.0.1\n",
      "\u001b[32m\u001b[1m   Installed\u001b[22m\u001b[39m OrderedCollections ──────────────── v1.4.1\n",
      "\u001b[32m\u001b[1m   Installed\u001b[22m\u001b[39m AbstractTrees ───────────────────── v0.3.4\n",
      "\u001b[32m\u001b[1m   Installed\u001b[22m\u001b[39m ChainRulesCore ──────────────────── v1.15.7\n",
      "\u001b[32m\u001b[1m   Installed\u001b[22m\u001b[39m ArrayInterface ──────────────────── v6.0.25\n",
      "\u001b[32m\u001b[1m   Installed\u001b[22m\u001b[39m Reexport ────────────────────────── v1.2.2\n",
      "\u001b[32m\u001b[1m   Installed\u001b[22m\u001b[39m PartialFunctions ────────────────── v1.1.1\n",
      "\u001b[32m\u001b[1m   Installed\u001b[22m\u001b[39m LogExpFunctions ─────────────────── v0.3.20\n",
      "\u001b[32m\u001b[1m   Installed\u001b[22m\u001b[39m CompositionsBase ────────────────── v0.1.1\n",
      "\u001b[32m\u001b[1m   Installed\u001b[22m\u001b[39m Strided ─────────────────────────── v1.2.3\n",
      "\u001b[32m\u001b[1m   Installed\u001b[22m\u001b[39m MacroTools ──────────────────────── v0.5.10\n",
      "\u001b[32m\u001b[1m   Installed\u001b[22m\u001b[39m OpenSpecFun_jll ─────────────────── v0.5.5+0\n",
      "\u001b[32m\u001b[1m   Installed\u001b[22m\u001b[39m UnPack ──────────────────────────── v1.0.2\n",
      "\u001b[32m\u001b[1m   Installed\u001b[22m\u001b[39m JuliaVariables ──────────────────── v0.2.4\n",
      "\u001b[32m\u001b[1m   Installed\u001b[22m\u001b[39m InverseFunctions ────────────────── v0.1.8\n",
      "\u001b[32m\u001b[1m   Installed\u001b[22m\u001b[39m YAML ────────────────────────────── v0.4.8\n",
      "\u001b[32m\u001b[1m   Installed\u001b[22m\u001b[39m GPUArraysCore ───────────────────── v0.1.3\n",
      "\u001b[32m\u001b[1m   Installed\u001b[22m\u001b[39m DocStringExtensions ─────────────── v0.9.3\n",
      "\u001b[32m\u001b[1m   Installed\u001b[22m\u001b[39m Crayons ─────────────────────────── v4.1.1\n",
      "\u001b[32m\u001b[1m   Installed\u001b[22m\u001b[39m DualNumbers ─────────────────────── v0.6.8\n",
      "\u001b[32m\u001b[1m   Installed\u001b[22m\u001b[39m Adapt ───────────────────────────── v3.5.0\n",
      "\u001b[32m\u001b[1m   Installed\u001b[22m\u001b[39m SQLite ──────────────────────────── v1.6.0\n",
      "\u001b[32m\u001b[1m   Installed\u001b[22m\u001b[39m Transducers ─────────────────────── v0.4.75\n",
      "\u001b[32m\u001b[1m   Installed\u001b[22m\u001b[39m ReinforcementLearningCore ───────── v0.8.12\n",
      "\u001b[32m\u001b[1m   Installed\u001b[22m\u001b[39m Rmath ───────────────────────────── v0.7.1\n",
      "\u001b[32m\u001b[1m   Installed\u001b[22m\u001b[39m XML2_jll ────────────────────────── v2.10.3+0\n",
      "\u001b[32m\u001b[1m   Installed\u001b[22m\u001b[39m InternedStrings ─────────────────── v0.7.0\n",
      "\u001b[32m\u001b[1m   Installed\u001b[22m\u001b[39m StructWalk ──────────────────────── v0.2.1\n",
      "\u001b[32m\u001b[1m   Installed\u001b[22m\u001b[39m IntervalSets ────────────────────── v0.5.4\n",
      "\u001b[32m\u001b[1m   Installed\u001b[22m\u001b[39m IterTools ───────────────────────── v1.4.0\n",
      "\u001b[32m\u001b[1m   Installed\u001b[22m\u001b[39m GPUCompiler ─────────────────────── v0.17.1\n",
      "\u001b[32m\u001b[1m   Installed\u001b[22m\u001b[39m CounterfactualRegret ────────────── v0.5.0\n",
      "\u001b[32m\u001b[1m   Installed\u001b[22m\u001b[39m FoldsThreads ────────────────────── v0.1.1\n",
      "\u001b[32m\u001b[1m   Installed\u001b[22m\u001b[39m GeometryBasics ──────────────────── v0.4.5\n",
      "\u001b[32m\u001b[1m   Installed\u001b[22m\u001b[39m SQLite_jll ──────────────────────── v3.40.0+1\n",
      "\u001b[32m\u001b[1m   Installed\u001b[22m\u001b[39m ReinforcementLearning ───────────── v0.10.1\n",
      "\u001b[32m\u001b[1m   Installed\u001b[22m\u001b[39m DataAPI ─────────────────────────── v1.14.0\n",
      "\u001b[32m\u001b[1m   Installed\u001b[22m\u001b[39m Tables ──────────────────────────── v1.10.0\n",
      "\u001b[32m\u001b[1m   Installed\u001b[22m\u001b[39m FixedPointNumbers ───────────────── v0.8.4\n",
      "\u001b[32m\u001b[1m   Installed\u001b[22m\u001b[39m Transformers ────────────────────── v0.1.18\n",
      "\u001b[32m\u001b[1m   Installed\u001b[22m\u001b[39m CxxWrap ─────────────────────────── v0.12.1\n",
      "\u001b[32m\u001b[1m   Installed\u001b[22m\u001b[39m RecipesBase ─────────────────────── v1.3.3\n",
      "\u001b[32m\u001b[1m   Installed\u001b[22m\u001b[39m Baselet ─────────────────────────── v0.1.1\n",
      "\u001b[32m\u001b[1m   Installed\u001b[22m\u001b[39m Nullables ───────────────────────── v1.0.0\n",
      "\u001b[32m\u001b[1m   Installed\u001b[22m\u001b[39m ReinforcementLearningBase ───────── v0.9.7\n",
      "\u001b[32m\u001b[1m   Installed\u001b[22m\u001b[39m Libiconv_jll ────────────────────── v1.16.1+2\n",
      "\u001b[32m\u001b[1m   Installed\u001b[22m\u001b[39m IteratorInterfaceExtensions ─────── v1.0.0\n",
      "\u001b[32m\u001b[1m   Installed\u001b[22m\u001b[39m IniFile ─────────────────────────── v0.5.1\n",
      "\u001b[32m\u001b[1m   Installed\u001b[22m\u001b[39m StructArrays ────────────────────── v0.6.14\n",
      "\u001b[32m\u001b[1m   Installed\u001b[22m\u001b[39m Inflector ───────────────────────── v1.0.1\n",
      "\u001b[32m\u001b[1m   Installed\u001b[22m\u001b[39m URIs ────────────────────────────── v1.4.1\n",
      "\u001b[32m\u001b[1m   Installed\u001b[22m\u001b[39m FilePathsBase ───────────────────── v0.9.20\n",
      "\u001b[32m\u001b[1m   Installed\u001b[22m\u001b[39m ForwardDiff ─────────────────────── v0.10.34\n",
      "\u001b[32m\u001b[1m   Installed\u001b[22m\u001b[39m FillArrays ──────────────────────── v0.13.7\n",
      "\u001b[32m\u001b[1m   Installed\u001b[22m\u001b[39m QuadGK ──────────────────────────── v2.7.0\n",
      "\u001b[32m\u001b[1m   Installed\u001b[22m\u001b[39m BSON ────────────────────────────── v0.3.6\n",
      "\u001b[32m\u001b[1m   Installed\u001b[22m\u001b[39m SplittablesBase ─────────────────── v0.1.15\n",
      "\u001b[32m\u001b[1m   Installed\u001b[22m\u001b[39m Genie ───────────────────────────── v4.20.1\n",
      "\u001b[32m\u001b[1m   Installed\u001b[22m\u001b[39m Requires ────────────────────────── v1.3.0\n",
      "\u001b[32m\u001b[1m   Installed\u001b[22m\u001b[39m Observables ─────────────────────── v0.4.0\n",
      "\u001b[32m\u001b[1m   Installed\u001b[22m\u001b[39m Stipple ─────────────────────────── v0.24.5\n",
      "\u001b[32m\u001b[1m   Installed\u001b[22m\u001b[39m TextEncodeBase ──────────────────── v0.5.12\n",
      "\u001b[32m\u001b[1m   Installed\u001b[22m\u001b[39m GeoInterface ────────────────────── v1.2.1\n",
      "\u001b[32m\u001b[1m   Installed\u001b[22m\u001b[39m Distributions ───────────────────── v0.25.80\n",
      "\u001b[32m\u001b[1m   Installed\u001b[22m\u001b[39m HttpCommon ──────────────────────── v0.5.0\n",
      "\u001b[32m\u001b[1m   Installed\u001b[22m\u001b[39m UrlDownload ─────────────────────── v1.0.1\n",
      "\u001b[32m\u001b[1m   Installed\u001b[22m\u001b[39m Parameters ──────────────────────── v0.12.3\n",
      "\u001b[32m\u001b[1m   Installed\u001b[22m\u001b[39m CSTParser ───────────────────────── v3.3.6\n",
      "\u001b[32m\u001b[1m   Installed\u001b[22m\u001b[39m LightXML ────────────────────────── v0.9.0\n",
      "\u001b[32m\u001b[1m   Installed\u001b[22m\u001b[39m SortingAlgorithms ───────────────── v0.3.2\n",
      "\u001b[32m\u001b[1m   Installed\u001b[22m\u001b[39m WordTokenizers ──────────────────── v0.5.6\n",
      "\u001b[32m\u001b[1m   Installed\u001b[22m\u001b[39m ElasticArrays ───────────────────── v1.2.11\n",
      "\u001b[32m\u001b[1m   Installed\u001b[22m\u001b[39m Nettle_jll ──────────────────────── v3.7.2+0\n",
      "\u001b[32m\u001b[1m   Installed\u001b[22m\u001b[39m Pickle ──────────────────────────── v0.3.2\n",
      "\u001b[32m\u001b[1m   Installed\u001b[22m\u001b[39m TextWrap ────────────────────────── v1.0.1\n",
      "\u001b[32m\u001b[1m   Installed\u001b[22m\u001b[39m ReinforcementLearningZoo ────────── v0.5.12\n",
      "\u001b[32m\u001b[1m   Installed\u001b[22m\u001b[39m ChangesOfVariables ──────────────── v0.1.5\n",
      "\u001b[32m\u001b[1m   Installed\u001b[22m\u001b[39m DensityInterface ────────────────── v0.4.0\n",
      "\u001b[32m\u001b[1m   Installed\u001b[22m\u001b[39m CUDA ────────────────────────────── v3.13.1\n",
      "\u001b[32m\u001b[1m   Installed\u001b[22m\u001b[39m CEnum ───────────────────────────── v0.4.2\n",
      "\u001b[32m\u001b[1m    Building\u001b[22m\u001b[39m DataDeps ─────→ `~/.julia/scratchspaces/44cfe95a-1eb2-52ea-b672-e2afdf69b78f/e299d8267135ef2f9c941a764006697082c1e7e8/build.log`\n",
      "\u001b[32m\u001b[1m    Building\u001b[22m\u001b[39m HTML_Entities → `~/.julia/scratchspaces/44cfe95a-1eb2-52ea-b672-e2afdf69b78f/c4144ed3bc5f67f595622ad03c0e39fa6c70ccc7/build.log`\n",
      "\u001b[32m\u001b[1mPrecompiling\u001b[22m\u001b[39m project...\n",
      "\u001b[32m  ✓ \u001b[39m\u001b[90mDefaultApplication\u001b[39m\n",
      "\u001b[32m  ✓ \u001b[39m\u001b[90mIteratorInterfaceExtensions\u001b[39m\n",
      "\u001b[32m  ✓ \u001b[39m\u001b[90mGlob\u001b[39m\n",
      "\u001b[32m  ✓ \u001b[39m\u001b[90mPDMats\u001b[39m\n",
      "\u001b[32m  ✓ \u001b[39m\u001b[90mExprTools\u001b[39m\n",
      "\u001b[32m  ✓ \u001b[39m\u001b[90mFunctionWrappers\u001b[39m\n",
      "\u001b[32m  ✓ \u001b[39m\u001b[90mTensorCore\u001b[39m\n",
      "\u001b[32m  ✓ \u001b[39m\u001b[90mURIParser\u001b[39m\n",
      "\u001b[32m  ✓ \u001b[39m\u001b[90mCalculus\u001b[39m\n",
      "\u001b[32m  ✓ \u001b[39m\u001b[90mCEnum\u001b[39m\n",
      "\u001b[32m  ✓ \u001b[39m\u001b[90mStructTypes\u001b[39m\n",
      "\u001b[32m  ✓ \u001b[39m\u001b[90mInflector\u001b[39m\n",
      "\u001b[32m  ✓ \u001b[39m\u001b[90mUnPack\u001b[39m\n",
      "\u001b[32m  ✓ \u001b[39m\u001b[90mInitialValues\u001b[39m\n",
      "\u001b[32m  ✓ \u001b[39m\u001b[90mOpenLibm_jll\u001b[39m\n",
      "\u001b[32m  ✓ \u001b[39m\u001b[90mFuncPipelines\u001b[39m\n",
      "\u001b[32m  ✓ \u001b[39m\u001b[90mInverseFunctions\u001b[39m\n",
      "\u001b[32m  ✓ \u001b[39m\u001b[90mPrettyPrint\u001b[39m\n",
      "\u001b[32m  ✓ \u001b[39m\u001b[90mArgCheck\u001b[39m\n",
      "\u001b[32m  ✓ \u001b[39m\u001b[90mPartialFunctions\u001b[39m\n",
      "\u001b[32m  ✓ \u001b[39m\u001b[90mShowCases\u001b[39m\n",
      "\u001b[32m  ✓ \u001b[39m\u001b[90mCompilerSupportLibraries_jll\u001b[39m\n",
      "\u001b[32m  ✓ \u001b[39m\u001b[90mFillArrays\u001b[39m\n",
      "\u001b[32m  ✓ \u001b[39m\u001b[90mIterTools\u001b[39m\n",
      "\u001b[32m  ✓ \u001b[39m\u001b[90mInternedStrings\u001b[39m\n",
      "\u001b[32m  ✓ \u001b[39m\u001b[90mOrderedCollections\u001b[39m\n",
      "\u001b[32m  ✓ \u001b[39m\u001b[90mMillboard\u001b[39m\n",
      "\u001b[32m  ✓ \u001b[39m\u001b[90mTextWrap\u001b[39m\n",
      "\u001b[32m  ✓ \u001b[39m\u001b[90mDataValueInterfaces\u001b[39m\n",
      "\u001b[32m  ✓ \u001b[39m\u001b[90mObservables\u001b[39m\n",
      "\u001b[32m  ✓ \u001b[39m\u001b[90mCompat\u001b[39m\n",
      "\u001b[32m  ✓ \u001b[39m\u001b[90mRealDot\u001b[39m\n",
      "\u001b[32m  ✓ \u001b[39m\u001b[90mRequires\u001b[39m\n",
      "\u001b[32m  ✓ \u001b[39m\u001b[90mHTML_Entities\u001b[39m\n",
      "\u001b[32m  ✓ \u001b[39m\u001b[90mReexport\u001b[39m\n",
      "\u001b[32m  ✓ \u001b[39m\u001b[90mIniFile\u001b[39m\n",
      "\u001b[32m  ✓ \u001b[39m\u001b[90mDocStringExtensions\u001b[39m\n",
      "\u001b[32m  ✓ \u001b[39m\u001b[90mFixedPointNumbers\u001b[39m\n",
      "\u001b[32m  ✓ \u001b[39m\u001b[90mAbstractTrees\u001b[39m\n",
      "\u001b[32m  ✓ \u001b[39m\u001b[90mCompositionsBase\u001b[39m\n",
      "\u001b[32m  ✓ \u001b[39m\u001b[90mBFloat16s\u001b[39m\n",
      "\u001b[32m  ✓ \u001b[39m\u001b[90mGMP_jll\u001b[39m\n",
      "\u001b[32m  ✓ \u001b[39m\u001b[90mIrrationalConstants\u001b[39m\n",
      "\u001b[32m  ✓ \u001b[39m\u001b[90mURIs\u001b[39m\n",
      "\u001b[32m  ✓ \u001b[39m\u001b[90mProgressMeter\u001b[39m\n",
      "\u001b[32m  ✓ \u001b[39m\u001b[90mDBInterface\u001b[39m\n",
      "\u001b[32m  ✓ \u001b[39m\u001b[90mFormatting\u001b[39m\n",
      "\u001b[32m  ✓ \u001b[39m\u001b[90mExtents\u001b[39m\n",
      "\u001b[32m  ✓ \u001b[39m\u001b[90mDefineSingletons\u001b[39m\n",
      "\u001b[32m  ✓ \u001b[39m\u001b[90mLazyModules\u001b[39m\n",
      "\u001b[32m  ✓ \u001b[39m\u001b[90mMacroTools\u001b[39m\n",
      "\u001b[32m  ✓ \u001b[39m\u001b[90mInvertedIndices\u001b[39m\n",
      "\u001b[32m  ✓ \u001b[39m\u001b[90mIfElse\u001b[39m\n",
      "\u001b[32m  ✓ \u001b[39m\u001b[90mConstructionBase\u001b[39m\n",
      "\u001b[32m  ✓ \u001b[39m\u001b[90mAdapt\u001b[39m\n",
      "\u001b[32m  ✓ \u001b[39m\u001b[90mDataAPI\u001b[39m\n",
      "\u001b[32m  ✓ \u001b[39m\u001b[90mBSON\u001b[39m\n",
      "\u001b[32m  ✓ \u001b[39m\u001b[90mProgressLogging\u001b[39m\n",
      "\u001b[32m  ✓ \u001b[39m\u001b[90mScratch\u001b[39m\n",
      "\u001b[32m  ✓ \u001b[39m\u001b[90mFunctors\u001b[39m\n",
      "\u001b[32m  ✓ \u001b[39m\u001b[90mNullables\u001b[39m\n",
      "\u001b[32m  ✓ \u001b[39m\u001b[90mStaticArraysCore\u001b[39m\n",
      "\u001b[32m  ✓ \u001b[39m\u001b[90mCodeTracking\u001b[39m\n",
      "\u001b[32m  ✓ \u001b[39m\u001b[90mTupleTools\u001b[39m\n",
      "\u001b[32m  ✓ \u001b[39m\u001b[90mCrayons\u001b[39m\n",
      "\u001b[32m  ✓ \u001b[39m\u001b[90mZipFile\u001b[39m\n",
      "\u001b[32m  ✓ \u001b[39m\u001b[90mTokenize\u001b[39m\n",
      "\u001b[32m  ✓ \u001b[39m\u001b[90mBaselet\u001b[39m\n",
      "\u001b[32m  ✓ \u001b[39m\u001b[90mBzip2_jll\u001b[39m\n",
      "\u001b[32m  ✓ \u001b[39m\u001b[90mArrayInterfaceCore\u001b[39m\n",
      "\u001b[32m  ✓ \u001b[39m\u001b[90mRecipesBase\u001b[39m\n",
      "\u001b[32m  ✓ \u001b[39m\u001b[90mRmath_jll\u001b[39m\n",
      "\u001b[32m  ✓ \u001b[39m\u001b[90mSQLite_jll\u001b[39m\n",
      "\u001b[32m  ✓ \u001b[39m\u001b[90mEarCut_jll\u001b[39m\n",
      "\u001b[32m  ✓ \u001b[39m\u001b[90mTableTraits\u001b[39m\n",
      "\u001b[32m  ✓ \u001b[39m\u001b[90mNaNMath\u001b[39m\n",
      "\u001b[32m  ✓ \u001b[39m\u001b[90mlibcxxwrap_julia_jll\u001b[39m\n",
      "\u001b[32m  ✓ \u001b[39m\u001b[90mDensityInterface\u001b[39m\n",
      "\u001b[32m  ✓ \u001b[39m\u001b[90mNameResolution\u001b[39m\n",
      "\u001b[32m  ✓ \u001b[39m\u001b[90mLLVMExtra_jll\u001b[39m\n",
      "\u001b[32m  ✓ \u001b[39m\u001b[90mLibiconv_jll\u001b[39m\n",
      "\u001b[32m  ✓ \u001b[39m\u001b[90mOpenBLAS_jll\u001b[39m\n",
      "\u001b[32m  ✓ \u001b[39m\u001b[90mTimerOutputs\u001b[39m\n",
      "\u001b[32m  ✓ \u001b[39m\u001b[90mBinaryProvider\u001b[39m\n",
      "\u001b[32m  ✓ \u001b[39m\u001b[90mParameters\u001b[39m\n",
      "\u001b[32m  ✓ \u001b[39m\u001b[90mOpenSpecFun_jll\u001b[39m\n",
      "\u001b[32m  ✓ \u001b[39m\u001b[90mArgParse\u001b[39m\n",
      "\u001b[32m  ✓ \u001b[39m\u001b[90mContextVariablesX\u001b[39m\n",
      "\u001b[32m  ✓ \u001b[39m\u001b[90mFilePathsBase\u001b[39m\n",
      "\u001b[32m  ✓ \u001b[39m\u001b[90mRandomNumbers\u001b[39m\n",
      "\u001b[32m  ✓ \u001b[39m\u001b[90mChainRulesCore\u001b[39m\n",
      "\u001b[32m  ✓ \u001b[39m\u001b[90mDataStructures\u001b[39m\n",
      "\u001b[32m  ✓ \u001b[39m\u001b[90mNettle_jll\u001b[39m\n",
      "\u001b[32m  ✓ \u001b[39m\u001b[90mGeoInterface\u001b[39m\n",
      "\u001b[32m  ✓ \u001b[39m\u001b[90mCommonSubexpressions\u001b[39m\n",
      "\u001b[32m  ✓ \u001b[39m\u001b[90mCommonRLInterface\u001b[39m\n",
      "\u001b[32m  ✓ \u001b[39m\u001b[90mMixers\u001b[39m\n",
      "\u001b[32m  ✓ \u001b[39m\u001b[90mHiccup\u001b[39m\n",
      "\u001b[32m  ✓ \u001b[39m\u001b[90mColorTypes\u001b[39m\n",
      "\u001b[32m  ✓ \u001b[39m\u001b[90mFileIO\u001b[39m\n",
      "\u001b[32m  ✓ \u001b[39m\u001b[90mHTTP\u001b[39m\n",
      "\u001b[32m  ✓ \u001b[39m\u001b[90mZygoteRules\u001b[39m\n",
      "\u001b[32m  ✓ \u001b[39m\u001b[90mStructWalk\u001b[39m\n",
      "\u001b[32m  ✓ \u001b[39m\u001b[90mElasticArrays\u001b[39m\n",
      "\u001b[32m  ✓ \u001b[39m\u001b[90mStatic\u001b[39m\n",
      "\u001b[32m  ✓ \u001b[39m\u001b[90mGPUArraysCore\u001b[39m\n",
      "\u001b[32m  ✓ \u001b[39m\u001b[90mCircularArrayBuffers\u001b[39m\n",
      "\u001b[32m  ✓ \u001b[39m\u001b[90mPooledArrays\u001b[39m\n",
      "\u001b[32m  ✓ \u001b[39m\u001b[90mMissings\u001b[39m\n",
      "\u001b[32m  ✓ \u001b[39m\u001b[90mHttpCommon\u001b[39m\n",
      "\u001b[32m  ✓ \u001b[39m\u001b[90mDiffResults\u001b[39m\n",
      "\u001b[32m  ✓ \u001b[39m\u001b[90mIRTools\u001b[39m\n",
      "\u001b[32m  ✓ \u001b[39m\u001b[90mSetfield\u001b[39m\n",
      "\u001b[32m  ✓ \u001b[39m\u001b[90mStrided\u001b[39m\n",
      "\u001b[32m  ✓ \u001b[39m\u001b[90mFreeType2_jll\u001b[39m\n",
      "\u001b[32m  ✓ \u001b[39m\u001b[90mRmath\u001b[39m\n",
      "\u001b[32m  ✓ \u001b[39m\u001b[90mTables\u001b[39m\n",
      "\u001b[32m  ✓ \u001b[39m\u001b[90mOpenSpiel_jll\u001b[39m\n",
      "\u001b[32m  ✓ \u001b[39m\u001b[90mStringEncodings\u001b[39m\n",
      "\u001b[32m  ✓ \u001b[39m\u001b[90mXML2_jll\u001b[39m\n",
      "\u001b[32m  ✓ \u001b[39m\u001b[90mlibblastrampoline_jll\u001b[39m\n",
      "\u001b[32m  ✓ \u001b[39m\u001b[90mMLStyle\u001b[39m\n",
      "\u001b[32m  ✓ \u001b[39m\u001b[90mFLoopsBase\u001b[39m\n",
      "\u001b[32m  ✓ \u001b[39m\u001b[90mCSTParser\u001b[39m\n",
      "\u001b[32m  ✓ \u001b[39m\u001b[90mChangesOfVariables\u001b[39m\n",
      "\u001b[32m  ✓ \u001b[39m\u001b[90mRandom123\u001b[39m\n",
      "\u001b[32m  ✓ \u001b[39m\u001b[90mAbstractFFTs\u001b[39m\n",
      "\u001b[32m  ✓ \u001b[39m\u001b[90mJuliaInterpreter\u001b[39m\n",
      "\u001b[32m  ✓ \u001b[39m\u001b[90mSortingAlgorithms\u001b[39m\n",
      "\u001b[32m  ✓ \u001b[39m\u001b[90mOptimisers\u001b[39m\n",
      "\u001b[32m  ✓ \u001b[39m\u001b[90mQuadGK\u001b[39m\n",
      "\u001b[32m  ✓ \u001b[39m\u001b[90mLLVM\u001b[39m\n",
      "\u001b[32m  ✓ \u001b[39m\u001b[90mNettle\u001b[39m\n",
      "\u001b[32m  ✓ \u001b[39m\u001b[90mStaticArrays\u001b[39m\n",
      "\u001b[32m  ✓ \u001b[39m\u001b[90mReinforcementLearningBase\u001b[39m\n",
      "\u001b[32m  ✓ \u001b[39m\u001b[90mDataDeps\u001b[39m\n",
      "\u001b[32m  ✓ \u001b[39m\u001b[90mUrlDownload\u001b[39m\n",
      "\u001b[32m  ✓ \u001b[39m\u001b[90mArrayInterface\u001b[39m\n",
      "\u001b[32m  ✓ \u001b[39m\u001b[90mSplittablesBase\u001b[39m\n",
      "\u001b[32m  ✓ \u001b[39m\u001b[90mFreeType\u001b[39m\n",
      "\u001b[32m  ✓ \u001b[39m\u001b[90mNNlib\u001b[39m\n",
      "\u001b[32m  ✓ \u001b[39m\u001b[90mStructArrays\u001b[39m\n",
      "\u001b[32m  ✓ \u001b[39m\u001b[90mLightXML\u001b[39m\n",
      "\u001b[32m  ✓ \u001b[39m\u001b[90mYAML\u001b[39m\n",
      "\u001b[33m  ✓ \u001b[39m\u001b[90mParsers\u001b[39m\n",
      "\u001b[32m  ✓ \u001b[39m\u001b[90mEzXML\u001b[39m\n",
      "\u001b[32m  ✓ \u001b[39m\u001b[90mColors\u001b[39m\n",
      "\u001b[32m  ✓ \u001b[39m\u001b[90mBangBang\u001b[39m\n",
      "\u001b[32m  ✓ \u001b[39m\u001b[90mPickle\u001b[39m\n",
      "\u001b[32m  ✓ \u001b[39m\u001b[90mLogExpFunctions\u001b[39m\n",
      "\u001b[32m  ✓ \u001b[39m\u001b[90mPrettyTables\u001b[39m\n",
      "\u001b[32m  ✓ \u001b[39m\u001b[90mCxxWrap\u001b[39m\n",
      "\u001b[32m  ✓ \u001b[39mStatsBase\n",
      "\u001b[32m  ✓ \u001b[39m\u001b[90mContour\u001b[39m\n",
      "\u001b[32m  ✓ \u001b[39m\u001b[90mGPUArrays\u001b[39m\n",
      "\u001b[32m  ✓ \u001b[39m\u001b[90mAccessors\u001b[39m\n",
      "\u001b[32m  ✓ \u001b[39m\u001b[90mEllipsisNotation\u001b[39m\n",
      "\u001b[32m  ✓ \u001b[39m\u001b[90mCounterfactualRegret\u001b[39m\n",
      "\u001b[32m  ✓ \u001b[39m\u001b[90mWordTokenizers\u001b[39m\n",
      "\u001b[32m  ✓ \u001b[39m\u001b[90mPrimitiveOneHot\u001b[39m\n",
      "\u001b[32m  ✓ \u001b[39m\u001b[90mJuliaVariables\u001b[39m\n",
      "\u001b[33m  ✓ \u001b[39m\u001b[90mJSON\u001b[39m\n",
      "\u001b[32m  ✓ \u001b[39m\u001b[90mMarchingCubes\u001b[39m\n",
      "\u001b[32m  ✓ \u001b[39m\u001b[90mInlineStrings\u001b[39m\n",
      "\u001b[32m  ✓ \u001b[39m\u001b[90mLoweredCodeUtils\u001b[39m\n",
      "\u001b[32m  ✓ \u001b[39m\u001b[90mMicroCollections\u001b[39m\n",
      "\u001b[32m  ✓ \u001b[39m\u001b[90mGPUCompiler\u001b[39m\n",
      "\u001b[32m  ✓ \u001b[39m\u001b[90mIntervalSets\u001b[39m\n",
      "\u001b[32m  ✓ \u001b[39m\u001b[90mBytePairEncoding\u001b[39m\n",
      "\u001b[32m  ✓ \u001b[39m\u001b[90mChainRules\u001b[39m\n",
      "\u001b[32m  ✓ \u001b[39m\u001b[90mTextEncodeBase\u001b[39m\n",
      "\u001b[32m  ✓ \u001b[39m\u001b[90mSpecialFunctions\u001b[39m\n",
      "\u001b[32m  ✓ \u001b[39mBenchmarkTools\n",
      "\u001b[32m  ✓ \u001b[39m\u001b[90mGeometryBasics\u001b[39m\n",
      "\u001b[32m  ✓ \u001b[39m\u001b[90mWeakRefStrings\u001b[39m\n",
      "\u001b[32m  ✓ \u001b[39m\u001b[90mJSON3\u001b[39m\n",
      "\u001b[32m  ✓ \u001b[39m\u001b[90mReinforcementLearningEnvironments\u001b[39m\n",
      "\u001b[32m  ✓ \u001b[39m\u001b[90mDualNumbers\u001b[39m\n",
      "\u001b[32m  ✓ \u001b[39m\u001b[90mDiffRules\u001b[39m\n",
      "\u001b[32m  ✓ \u001b[39m\u001b[90mTransducers\u001b[39m\n",
      "\u001b[32m  ✓ \u001b[39m\u001b[90mColorVectorSpace\u001b[39m\n",
      "\u001b[32m  ✓ \u001b[39m\u001b[90mCommonMark\u001b[39m\n",
      "\u001b[32m  ✓ \u001b[39m\u001b[90mSQLite\u001b[39m\n",
      "\u001b[32m  ✓ \u001b[39m\u001b[90mRevise\u001b[39m\n",
      "\u001b[32m  ✓ \u001b[39mOpenSpiel\n",
      "\u001b[32m  ✓ \u001b[39m\u001b[90mUnitful\u001b[39m\n",
      "\u001b[32m  ✓ \u001b[39m\u001b[90mHypergeometricFunctions\u001b[39m\n",
      "\u001b[32m  ✓ \u001b[39m\u001b[90mVersionCheck\u001b[39m\n",
      "\u001b[32m  ✓ \u001b[39m\u001b[90mFetch\u001b[39m\n",
      "\u001b[32m  ✓ \u001b[39m\u001b[90mFoldsThreads\u001b[39m\n",
      "\u001b[32m  ✓ \u001b[39m\u001b[90mFreeTypeAbstraction\u001b[39m\n",
      "\u001b[32m  ✓ \u001b[39m\u001b[90mStatsFuns\u001b[39m\n",
      "\u001b[32m  ✓ \u001b[39mChess\n",
      "\u001b[32m  ✓ \u001b[39m\u001b[90mForwardDiff\u001b[39m\n",
      "\u001b[32m  ✓ \u001b[39m\u001b[90mFLoops\u001b[39m\n",
      "\u001b[32m  ✓ \u001b[39m\u001b[90mDistributions\u001b[39m\n",
      "\u001b[32m  ✓ \u001b[39m\u001b[90mUnicodePlots\u001b[39m\n",
      "\u001b[32m  ✓ \u001b[39m\u001b[90mZygote\u001b[39m\n",
      "\u001b[32m  ✓ \u001b[39m\u001b[90mMLUtils\u001b[39m\n",
      "\u001b[32m  ✓ \u001b[39m\u001b[90mDataFrames\u001b[39m\n",
      "\u001b[32m  ✓ \u001b[39m\u001b[90mJuliaFormatter\u001b[39m\n",
      "\u001b[32m  ✓ \u001b[39mGenie\n",
      "\u001b[32m  ✓ \u001b[39mCUDA\n",
      "\u001b[32m  ✓ \u001b[39mStipple\n",
      "\u001b[32m  ✓ \u001b[39m\u001b[90mNNlibCUDA\u001b[39m\n",
      "\u001b[32m  ✓ \u001b[39mStippleUI\n",
      "\u001b[32m  ✓ \u001b[39mFlux\n",
      "\u001b[32m  ✓ \u001b[39mESCHER\n",
      "\u001b[32m  ✓ \u001b[39m\u001b[90mReinforcementLearningCore\u001b[39m\n",
      "\u001b[32m  ✓ \u001b[39mTransformers\n",
      "\u001b[32m  ✓ \u001b[39m\u001b[90mReinforcementLearningZoo\u001b[39m\n",
      "\u001b[32m  ✓ \u001b[39mReinforcementLearning\n",
      "\u001b[32m  ✓ \u001b[39mImpCatcher\n",
      "  213 dependencies successfully precompiled in 242 seconds (8 already precompiled)\n",
      "  \u001b[33m2\u001b[39m dependencies precompiled but different versions are currently loaded. Restart julia to access the new versions\n"
     ]
    }
   ],
   "source": [
    "using Pkg\n",
    "Pkg.activate(\"ImpCatcher\")\n",
    "Pkg.precompile()\n",
    "Pkg.instantiate()"
   ]
  },
  {
   "cell_type": "code",
   "execution_count": 35,
   "id": "4b2f82e2-2560-42df-8b03-6a19f959c69a",
   "metadata": {},
   "outputs": [],
   "source": []
  },
  {
   "cell_type": "code",
   "execution_count": 16,
   "id": "5d26e3d2-7df6-4267-a175-b4539a07bebb",
   "metadata": {},
   "outputs": [
    {
     "name": "stderr",
     "output_type": "stream",
     "text": [
      "\u001b[32m\u001b[1m     Cloning\u001b[22m\u001b[39m git-repo `https://github.com/WhiffleFish/ESCHER.jl.git`\n",
      "\u001b[32m\u001b[1m    Updating\u001b[22m\u001b[39m git-repo `https://github.com/WhiffleFish/ESCHER.jl.git`\n",
      "\u001b[32m\u001b[1m   Resolving\u001b[22m\u001b[39m package versions...\n",
      "\u001b[32m\u001b[1m    Updating\u001b[22m\u001b[39m `/notebooks/ImpCatcher/Project.toml`\n",
      " \u001b[90m [8352d375] \u001b[39m\u001b[93m~ ESCHER v0.1.0 `~/.julia/dev/ESCHER` ⇒ v0.1.0 `https://github.com/WhiffleFish/ESCHER.jl.git#main`\u001b[39m\n",
      "\u001b[32m\u001b[1m    Updating\u001b[22m\u001b[39m `/notebooks/ImpCatcher/Manifest.toml`\n",
      " \u001b[90m [8352d375] \u001b[39m\u001b[93m~ ESCHER v0.1.0 `~/.julia/dev/ESCHER` ⇒ v0.1.0 `https://github.com/WhiffleFish/ESCHER.jl.git#main`\u001b[39m\n",
      "\u001b[32m\u001b[1mPrecompiling\u001b[22m\u001b[39m project...\n",
      "\u001b[32m  ✓ \u001b[39mESCHER\n",
      "\u001b[32m  ✓ \u001b[39mImpCatcher\n",
      "  2 dependencies successfully precompiled in 10 seconds (194 already precompiled)\n"
     ]
    }
   ],
   "source": []
  },
  {
   "cell_type": "code",
   "execution_count": 25,
   "id": "21e45a5c-7cb6-459b-b545-5a4ece1a32e9",
   "metadata": {},
   "outputs": [
    {
     "name": "stderr",
     "output_type": "stream",
     "text": [
      "\u001b[32m\u001b[1m   Resolving\u001b[22m\u001b[39m package versions...\n",
      "\u001b[32m\u001b[1m    Updating\u001b[22m\u001b[39m `/notebooks/ImpCatcher/Project.toml`\n",
      " \u001b[90m [587475ba] \u001b[39m\u001b[92m+ Flux v0.13.4\u001b[39m\n",
      "\u001b[32m\u001b[1m  No Changes\u001b[22m\u001b[39m to `/notebooks/ImpCatcher/Manifest.toml`\n"
     ]
    }
   ],
   "source": [
    "Pkg.add(\"Flux\")"
   ]
  },
  {
   "cell_type": "markdown",
   "id": "bbf39b9c-9bb1-4814-b1f3-d0a9f29594b4",
   "metadata": {},
   "source": [
    "___"
   ]
  },
  {
   "cell_type": "markdown",
   "id": "fdfe0787-8d37-4ed5-b1d4-fa54ed86ce13",
   "metadata": {},
   "source": [
    "## Understanding our Bot\n",
    "#### Table of Contents\n",
    "**1. Background in Solving Dark Chess**  \n",
    "\n",
    "**2. High Level Architecture** \n",
    "\n",
    "**3. Low Level Implementation** \n",
    "\n",
    "**4. Training** \n",
    "\n",
    "**5. The ELI5 version of the Math Concepts**  \n",
    "\n",
    "----\n",
    "### WIP Explaination ####"
   ]
  },
  {
   "cell_type": "markdown",
   "id": "234672b6-fbec-4921-8aba-c6eef50df1a7",
   "metadata": {},
   "source": [
    "# Model building"
   ]
  },
  {
   "cell_type": "code",
   "execution_count": 3,
   "id": "fc1a2cc6-16b2-484d-81d6-94680691b4c3",
   "metadata": {
    "tags": []
   },
   "outputs": [
    {
     "name": "stderr",
     "output_type": "stream",
     "text": [
      "\u001b[36m\u001b[1m[ \u001b[22m\u001b[39m\u001b[36m\u001b[1mInfo: \u001b[22m\u001b[39mPrecompiling Transformers [21ca0261-441d-5938-ace7-c90938fde4d4]\n",
      "\u001b[32m\u001b[1m Downloading\u001b[22m\u001b[39m artifact: CUDA_compat\n",
      "\u001b[32m\u001b[1m Downloading\u001b[22m\u001b[39m artifact: CUDA\n"
     ]
    },
    {
     "data": {
      "text/plain": [
       "Stack(PositionEmbedding(512), #1, Dropout(0.1), Transformer(head=8, head_size=64, pwffn_size=2048, size=512), Transformer(head=8, head_size=64, pwffn_size=2048, size=512), Transformer(head=8, head_size=64, pwffn_size=2048, size=512))"
      ]
     },
     "execution_count": 3,
     "metadata": {},
     "output_type": "execute_result"
    }
   ],
   "source": [
    "using Transformers\n",
    "using Transformers.Basic\n",
    "using Flux\n",
    "N = 3\n",
    "encoder = Stack(\n",
    "    @nntopo(e → pe:(e, pe) → x → x → $N),\n",
    "    PositionEmbedding(512),\n",
    "    (e, pe) -> e .+ pe,\n",
    "    Dropout(0.1),\n",
    "    [Transformer(512, 8, 64, 2048) for i = 1:N]...\n",
    ")\n"
   ]
  },
  {
   "cell_type": "code",
   "execution_count": 4,
   "id": "5ce7d248-149f-4b67-a5fc-d2e1a7701445",
   "metadata": {},
   "outputs": [
    {
     "data": {
      "text/plain": [
       "Stack(PositionEmbedding(512), #5, Dropout(0.1), TransformerDecoder(head=8, head_size=64, pwffn_size=2048, size=512), TransformerDecoder(head=8, head_size=64, pwffn_size=2048, size=512), TransformerDecoder(head=8, head_size=64, pwffn_size=2048, size=512), Positionwise(Dense(512 => 4096), logsoftmax))"
      ]
     },
     "execution_count": 4,
     "metadata": {},
     "output_type": "execute_result"
    }
   ],
   "source": [
    "avg_policy_decoder = Stack(\n",
    "    @nntopo((e, m, mask):e → pe:(e, pe) → t → (t:(t, m, mask) → t:(t, m, mask)) → $N:t → c → c),\n",
    "    PositionEmbedding(512),\n",
    "    (e, pe) -> e .+ pe,\n",
    "    Dropout(0.1),\n",
    "    [TransformerDecoder(512, 8, 64, 2048) for i = 1:N]...,\n",
    "    Positionwise(Dense(512, 4096), logsoftmax)\n",
    ")"
   ]
  },
  {
   "cell_type": "code",
   "execution_count": 12,
   "id": "f040dc2c-46b5-4418-b5a6-20c7c615a7ec",
   "metadata": {},
   "outputs": [
    {
     "ename": "LoadError",
     "evalue": "ArgumentError: Package OpenSpiel not found in current path:\n- Run `import Pkg; Pkg.add(\"OpenSpiel\")` to install the OpenSpiel package.\n",
     "output_type": "error",
     "traceback": [
      "ArgumentError: Package OpenSpiel not found in current path:\n- Run `import Pkg; Pkg.add(\"OpenSpiel\")` to install the OpenSpiel package.\n",
      "",
      "Stacktrace:",
      " [1] require(into::Module, mod::Symbol)",
      "   @ Base ./loading.jl:967"
     ]
    }
   ],
   "source": [
    "using OpenSpiel"
   ]
  },
  {
   "cell_type": "code",
   "execution_count": 3,
   "id": "90a89725-f0b4-4230-9876-08a9af3a3406",
   "metadata": {},
   "outputs": [],
   "source": [
    "using ReinforcementLearning\n"
   ]
  },
  {
   "cell_type": "code",
   "execution_count": 2,
   "id": "d72c4a78-e893-4cab-aee5-6ac460ac54a2",
   "metadata": {},
   "outputs": [],
   "source": [
    "using OpenSpiel\n"
   ]
  },
  {
   "cell_type": "code",
   "execution_count": null,
   "id": "175db6ef-c77c-48ea-84c3-53cfb86a0e59",
   "metadata": {},
   "outputs": [],
   "source": [
    "sleep(5)\n",
    "OpenSpielEnv(\"dark_chess\")"
   ]
  },
  {
   "cell_type": "code",
   "execution_count": 7,
   "id": "f86820f6-e093-429d-9fd2-25a790b0863f",
   "metadata": {},
   "outputs": [
    {
     "data": {
      "text/plain": [
       "11-element Vector{CxxWrap.StdLib.StdString}:\n",
       " \"cursor_go\"\n",
       " \"dark_chess\"\n",
       " \"dark_hex\"\n",
       " \"dark_hex_ir\"\n",
       " \"deep_sea\"\n",
       " \"efg_game\"\n",
       " \"first_sealed_auction\"\n",
       " \"gin_rummy\"\n",
       " \"go\"\n",
       " \"goofspiel\"\n",
       " \"hanabi\""
      ]
     },
     "execution_count": 7,
     "metadata": {},
     "output_type": "execute_result"
    }
   ],
   "source": [
    "OpenSpiel.registered_names()[20:30]"
   ]
  },
  {
   "cell_type": "markdown",
   "id": "48b62616-60d8-49f3-9d5c-c3a42d4f45e1",
   "metadata": {},
   "source": [
    "### Genereate the transformations from "
   ]
  }
 ],
 "metadata": {
  "kernelspec": {
   "display_name": "Python 3 (ipykernel)",
   "language": "python",
   "name": "python3"
  },
  "language_info": {
   "codemirror_mode": {
    "name": "ipython",
    "version": 3
   },
   "file_extension": ".py",
   "mimetype": "text/x-python",
   "name": "python",
   "nbconvert_exporter": "python",
   "pygments_lexer": "ipython3",
   "version": "3.9.13"
  }
 },
 "nbformat": 4,
 "nbformat_minor": 5
}
